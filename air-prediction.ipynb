{
 "cells": [
  {
   "cell_type": "code",
   "execution_count": 1,
   "metadata": {},
   "outputs": [
    {
     "name": "stderr",
     "output_type": "stream",
     "text": [
      "Using TensorFlow backend.\n"
     ]
    }
   ],
   "source": [
    "from keras.models import Sequential\n",
    "from keras.layers.convolutional import Conv3D\n",
    "from keras.layers.convolutional_recurrent import ConvLSTM2D\n",
    "from keras.layers.normalization import BatchNormalization"
   ]
  },
  {
   "cell_type": "markdown",
   "metadata": {},
   "source": [
    "### seq2seq model"
   ]
  },
  {
   "cell_type": "code",
   "execution_count": 10,
   "metadata": {},
   "outputs": [],
   "source": [
    "seq = Sequential()\n",
    "seq.add(ConvLSTM2D(filters=1, kernel_size=(2, 2),\n",
    "                   input_shape=(None, 7, 9, 1),\n",
    "                   padding='same', return_sequences=True))\n",
    "seq.add(BatchNormalization())\n",
    "\n",
    "seq.add(ConvLSTM2D(filters=1, kernel_size=(3, 3),\n",
    "                   padding='same', return_sequences=True))\n",
    "seq.add(BatchNormalization())\n",
    "\n",
    "seq.add(Conv3D(filters=1, kernel_size=(3, 3, 3),\n",
    "               activation='sigmoid',\n",
    "               padding='same', data_format='channels_last'))\n",
    "seq.compile(loss='mean_absolute_error', optimizer='sgd')\n",
    "# seq.compile(loss='mean_squared_error', optimizer='sgd', metrics=['mae', 'acc'])"
   ]
  },
  {
   "cell_type": "markdown",
   "metadata": {},
   "source": [
    "## load data\n",
    "We dump the preprocessed data into the Python Pickle files"
   ]
  },
  {
   "cell_type": "code",
   "execution_count": 3,
   "metadata": {},
   "outputs": [],
   "source": [
    "try:\n",
    "    import cPickle as pickle\n",
    "except:\n",
    "    import pickle"
   ]
  },
  {
   "cell_type": "code",
   "execution_count": 5,
   "metadata": {},
   "outputs": [],
   "source": [
    "with open('data//X-1316.pkl', 'rb') as file:\n",
    "    X = bpickle.load(file)\n",
    "with open('data//y-1316-seq.pkl', 'rb') as file1:\n",
    "    Y = pickle.load(file1)"
   ]
  },
  {
   "cell_type": "code",
   "execution_count": 6,
   "metadata": {},
   "outputs": [
    {
     "data": {
      "text/plain": [
       "(35016, 48, 7, 9, 1)"
      ]
     },
     "execution_count": 6,
     "metadata": {},
     "output_type": "execute_result"
    }
   ],
   "source": [
    "X.shape"
   ]
  },
  {
   "cell_type": "code",
   "execution_count": 7,
   "metadata": {},
   "outputs": [
    {
     "data": {
      "text/plain": [
       "(35016, 48, 7, 9, 1)"
      ]
     },
     "execution_count": 7,
     "metadata": {},
     "output_type": "execute_result"
    }
   ],
   "source": [
    "Y.shape"
   ]
  },
  {
   "cell_type": "markdown",
   "metadata": {},
   "source": [
    "## training"
   ]
  },
  {
   "cell_type": "code",
   "execution_count": 8,
   "metadata": {},
   "outputs": [],
   "source": [
    "X_train = X[:30635]\n",
    "Y_train = Y[:30635]\n",
    "\n",
    "X_test = X[30635:35015]\n",
    "Y_test = Y[30635:35015]"
   ]
  },
  {
   "cell_type": "code",
   "execution_count": 11,
   "metadata": {},
   "outputs": [
    {
     "name": "stdout",
     "output_type": "stream",
     "text": [
      "Train on 29103 samples, validate on 1532 samples\n",
      "Epoch 1/50\n",
      "29103/29103 [==============================] - 1447s 50ms/step - loss: 0.0835 - val_loss: 0.0324\n",
      "Epoch 2/50\n",
      "29103/29103 [==============================] - 1435s 49ms/step - loss: 0.0633 - val_loss: 0.0292\n",
      "Epoch 3/50\n",
      "29103/29103 [==============================] - 1437s 49ms/step - loss: 0.0591 - val_loss: 0.0272\n",
      "Epoch 4/50\n",
      "29103/29103 [==============================] - 1433s 49ms/step - loss: 0.0552 - val_loss: 0.0259\n",
      "Epoch 5/50\n",
      "29103/29103 [==============================] - 1430s 49ms/step - loss: 0.0487 - val_loss: 0.0242\n",
      "Epoch 6/50\n",
      "29103/29103 [==============================] - 1431s 49ms/step - loss: 0.0421 - val_loss: 0.0225\n",
      "Epoch 7/50\n",
      "29103/29103 [==============================] - 1429s 49ms/step - loss: 0.0387 - val_loss: 0.0212\n",
      "Epoch 8/50\n",
      "29103/29103 [==============================] - 1431s 49ms/step - loss: 0.0364 - val_loss: 0.0203\n",
      "Epoch 9/50\n",
      "29103/29103 [==============================] - 1429s 49ms/step - loss: 0.0348 - val_loss: 0.0196\n",
      "Epoch 10/50\n",
      "29103/29103 [==============================] - 1433s 49ms/step - loss: 0.0336 - val_loss: 0.0191\n",
      "Epoch 11/50\n",
      "29103/29103 [==============================] - 1433s 49ms/step - loss: 0.0326 - val_loss: 0.0187\n",
      "Epoch 12/50\n",
      "29103/29103 [==============================] - 1435s 49ms/step - loss: 0.0319 - val_loss: 0.0183\n",
      "Epoch 13/50\n",
      "29103/29103 [==============================] - 1436s 49ms/step - loss: 0.0313 - val_loss: 0.0178\n",
      "Epoch 14/50\n",
      "29103/29103 [==============================] - 1431s 49ms/step - loss: 0.0306 - val_loss: 0.0176\n",
      "Epoch 15/50\n",
      "29103/29103 [==============================] - 1435s 49ms/step - loss: 0.0300 - val_loss: 0.0176\n",
      "Epoch 16/50\n",
      "29103/29103 [==============================] - 1434s 49ms/step - loss: 0.0295 - val_loss: 0.0172\n",
      "Epoch 17/50\n",
      "29103/29103 [==============================] - 1452s 50ms/step - loss: 0.0291 - val_loss: 0.0170\n",
      "Epoch 18/50\n",
      "29103/29103 [==============================] - 1431s 49ms/step - loss: 0.0285 - val_loss: 0.0166\n",
      "Epoch 19/50\n",
      "29103/29103 [==============================] - 1430s 49ms/step - loss: 0.0280 - val_loss: 0.0164\n",
      "Epoch 20/50\n",
      "29103/29103 [==============================] - 1432s 49ms/step - loss: 0.0273 - val_loss: 0.0161\n",
      "Epoch 21/50\n",
      "29103/29103 [==============================] - 1433s 49ms/step - loss: 0.0267 - val_loss: 0.0159\n",
      "Epoch 22/50\n",
      "29103/29103 [==============================] - 1433s 49ms/step - loss: 0.0262 - val_loss: 0.0156\n",
      "Epoch 23/50\n",
      "29103/29103 [==============================] - 1433s 49ms/step - loss: 0.0255 - val_loss: 0.0153\n",
      "Epoch 24/50\n",
      "29103/29103 [==============================] - 1433s 49ms/step - loss: 0.0251 - val_loss: 0.0151\n",
      "Epoch 25/50\n",
      "29103/29103 [==============================] - 1438s 49ms/step - loss: 0.0245 - val_loss: 0.0149\n",
      "Epoch 26/50\n",
      "29103/29103 [==============================] - 1468s 50ms/step - loss: 0.0241 - val_loss: 0.0142\n",
      "Epoch 27/50\n",
      "29103/29103 [==============================] - 1450s 50ms/step - loss: 0.0236 - val_loss: 0.0145\n",
      "Epoch 28/50\n",
      "29103/29103 [==============================] - 1442s 50ms/step - loss: 0.0233 - val_loss: 0.0140\n",
      "Epoch 29/50\n",
      "29103/29103 [==============================] - 1440s 49ms/step - loss: 0.0230 - val_loss: 0.0140\n",
      "Epoch 30/50\n",
      "29103/29103 [==============================] - 1439s 49ms/step - loss: 0.0227 - val_loss: 0.0138\n",
      "Epoch 31/50\n",
      "29103/29103 [==============================] - 1433s 49ms/step - loss: 0.0225 - val_loss: 0.0133\n",
      "Epoch 32/50\n",
      "29103/29103 [==============================] - 1436s 49ms/step - loss: 0.0223 - val_loss: 0.0132\n",
      "Epoch 33/50\n",
      "29103/29103 [==============================] - 1448s 50ms/step - loss: 0.0221 - val_loss: 0.0139\n",
      "Epoch 34/50\n",
      "29103/29103 [==============================] - 1446s 50ms/step - loss: 0.0220 - val_loss: 0.0134\n",
      "Epoch 35/50\n",
      "29103/29103 [==============================] - 1447s 50ms/step - loss: 0.0219 - val_loss: 0.0134\n",
      "Epoch 36/50\n",
      "29103/29103 [==============================] - 1446s 50ms/step - loss: 0.0217 - val_loss: 0.0128\n",
      "Epoch 37/50\n",
      "29103/29103 [==============================] - 1449s 50ms/step - loss: 0.0217 - val_loss: 0.0130\n",
      "Epoch 38/50\n",
      "29103/29103 [==============================] - 1454s 50ms/step - loss: 0.0215 - val_loss: 0.0133\n",
      "Epoch 39/50\n",
      "29103/29103 [==============================] - 1455s 50ms/step - loss: 0.0214 - val_loss: 0.0126\n",
      "Epoch 40/50\n",
      "29103/29103 [==============================] - 1450s 50ms/step - loss: 0.0213 - val_loss: 0.0129\n",
      "Epoch 41/50\n",
      "29103/29103 [==============================] - 1456s 50ms/step - loss: 0.0213 - val_loss: 0.0137\n",
      "Epoch 42/50\n",
      "29103/29103 [==============================] - 1450s 50ms/step - loss: 0.0212 - val_loss: 0.0131\n",
      "Epoch 43/50\n",
      "29103/29103 [==============================] - 1437s 49ms/step - loss: 0.0212 - val_loss: 0.0136\n",
      "Epoch 44/50\n",
      "29103/29103 [==============================] - 1435s 49ms/step - loss: 0.0211 - val_loss: 0.0137\n",
      "Epoch 45/50\n",
      "29103/29103 [==============================] - 1437s 49ms/step - loss: 0.0211 - val_loss: 0.0127\n",
      "Epoch 46/50\n",
      "29103/29103 [==============================] - 1440s 49ms/step - loss: 0.0209 - val_loss: 0.0124\n",
      "Epoch 47/50\n",
      "29103/29103 [==============================] - 1436s 49ms/step - loss: 0.0209 - val_loss: 0.0131\n",
      "Epoch 48/50\n",
      "29103/29103 [==============================] - 1434s 49ms/step - loss: 0.0209 - val_loss: 0.0126\n",
      "Epoch 49/50\n",
      "29103/29103 [==============================] - 1436s 49ms/step - loss: 0.0207 - val_loss: 0.0120\n",
      "Epoch 50/50\n",
      "29103/29103 [==============================] - 1437s 49ms/step - loss: 0.0205 - val_loss: 0.0122\n"
     ]
    },
    {
     "data": {
      "text/plain": [
       "<keras.callbacks.History at 0x29721d56240>"
      ]
     },
     "execution_count": 11,
     "metadata": {},
     "output_type": "execute_result"
    }
   ],
   "source": [
    "seq.fit(X_train, Y_train, batch_size=10, epochs=50, validation_split=0.05)"
   ]
  },
  {
   "cell_type": "markdown",
   "metadata": {},
   "source": [
    "## prediction"
   ]
  },
  {
   "cell_type": "code",
   "execution_count": 12,
   "metadata": {},
   "outputs": [],
   "source": [
    "Y_hat = seq.predict(X_test, verbose=0)"
   ]
  },
  {
   "cell_type": "markdown",
   "metadata": {},
   "source": [
    "## visulization"
   ]
  },
  {
   "cell_type": "code",
   "execution_count": 18,
   "metadata": {},
   "outputs": [],
   "source": [
    "def visulization(y, y_hat, n_slots):\n",
    "    '''\n",
    "    visulize the prpcess of prediction by randomly select n_slots predictions.\n",
    "    y: the labels of test set: shape like (200, 9, 9, 1)\n",
    "    y_hat: the predicted labels: shape like (200, 9, 9, 1)\n",
    "    n_slots: number of frames to be visulized\n",
    "    '''\n",
    "    import random\n",
    "    import matplotlib.pyplot as plt\n",
    "    import numpy as np\n",
    "    length = y_hat.shape[0]\n",
    "    random_ind = random.sample(range(0, length-1), n_slots)\n",
    "    stations = ['station 0', 'station 1', 'station 2', 'station 3', 'station 4', 'station 5', 'station 6', 'station 7']\n",
    "#     fea = ['co', 'no2', 'o3', 'pm10', 'pm2.5', 'so2', 'pressure', 'temperature', 'humidity']\n",
    "    fea = ['co', 'no2', 'o3', 'pm10', 'pm2.5', 'so2', 'pres', 'temp', 'humi']\n",
    "    for ind in random_ind:\n",
    "        \n",
    "        fig, (ax1, ax2)= plt.subplots(1, 2, sharey=True, sharex=True, figsize=(10, 5))\n",
    "        \n",
    "        plt.yticks(np.arange(8), stations, fontsize=12)\n",
    "        ax1.set_yticklabels(stations,fontsize=13)\n",
    "        ax1.set_xticklabels(fea)\n",
    "#         plt.xticks = [0, 1, 2,3,4,5,6,7,8]\n",
    "        plt.setp(ax1, xticks = [0, 1, 2,3,4,5,6,7,8])\n",
    "    \n",
    "        plt.setp(ax1.get_xticklabels(), rotation=30,ha=\"right\", rotation_mode=\"anchor\")\n",
    "        plt.setp(ax2.get_xticklabels(), rotation=30)\n",
    "#         plt.xticks(range(9), ['co', 'no2', 'o3', 'pm10', 'pm2.5', 'so2', 'pres', 'temp', 'humi'], rotation=30)\n",
    "#         ax1 = pyplot.subplot(121)\n",
    "        y_pre = y_hat[ind,23,:,:,0] #visulize the last frame\n",
    "        ax1.imshow(y_pre)\n",
    "#         plt.title('Predition', fontsize=15)\n",
    "        plt.text(-9, -0.8, 'Predition', fontsize=13)\n",
    "#         ax1.xticks(np.arange(9), ['co', 'no2', 'o3', 'pm10', 'pm2.5', 'so2', 'pres', 'temp', 'humi'])\n",
    "#         ax2 = pyplot.subplot(122,sharey=ax1)\n",
    "        y_truth = y[ind,23,:,:,0]\n",
    "        ax2.imshow(y_truth)\n",
    "#         plt.title('Ground truth', fontsize=15)\n",
    "        plt.text(2, -0.8, 'Ground truth', fontsize=13)\n",
    "    plt.savefig('figs//predict-map.pdf', dpi=300, bbox_inches ='tight')"
   ]
  },
  {
   "cell_type": "code",
   "execution_count": 19,
   "metadata": {},
   "outputs": [
    {
     "data": {
      "image/png": "[encoded data removed]",
      "text/plain": [
       "<Figure size 720x360 with 2 Axes>"
      ]
     },
     "metadata": {
      "needs_background": "light"
     },
     "output_type": "display_data"
    },
    {
     "data": {
      "image/png": "[encoded data removed]",
      "text/plain": [
       "<Figure size 720x360 with 2 Axes>"
      ]
     },
     "metadata": {
      "needs_background": "light"
     },
     "output_type": "display_data"
    },
    {
     "data": {
      "image/png": "[encoded data removed]",
      "text/plain": [
       "<Figure size 720x360 with 2 Axes>"
      ]
     },
     "metadata": {
      "needs_background": "light"
     },
     "output_type": "display_data"
    },
    {
     "data": {
      "image/png": "[encoded data removed]",
      "text/plain": [
       "<Figure size 720x360 with 2 Axes>"
      ]
     },
     "metadata": {
      "needs_background": "light"
     },
     "output_type": "display_data"
    }
   ],
   "source": [
    "visulization(Y_test, Y_hat, 4)"
   ]
  }
 ],
 "metadata": {
  "kernelspec": {
   "display_name": "Python(keras-tf)",
   "language": "python",
   "name": "tensorflow"
  },
  "language_info": {
   "codemirror_mode": {
    "name": "ipython",
    "version": 3
   },
   "file_extension": ".py",
   "mimetype": "text/x-python",
   "name": "python",
   "nbconvert_exporter": "python",
   "pygments_lexer": "ipython3",
   "version": "3.6.8"
  }
 },
 "nbformat": 4,
 "nbformat_minor": 2
}
