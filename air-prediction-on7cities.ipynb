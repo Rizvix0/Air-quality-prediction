{
 "cells": [
  {
   "cell_type": "code",
   "execution_count": 5,
   "metadata": {},
   "outputs": [],
   "source": [
    "import pandas as pd\n",
    "import numpy as np\n",
    "try:\n",
    "    import cPickle as pickle\n",
    "except:\n",
    "    import pickle"
   ]
  },
  {
   "cell_type": "code",
   "execution_count": 2,
   "metadata": {},
   "outputs": [],
   "source": [
    "beijing = pd.read_excel('.\\\\aqi7city.xlsx',header=None, sheet_name=0, names=['date','aqi','degree','pm25','pm10','so2','co','no2','o3_8h'])\n",
    "shanghai = pd.read_excel('.\\\\aqi7city.xlsx',header=None,sheet_name=1, names=['date','aqi','degree','pm25','pm10','so2','co','no2','o3_8h'])\n",
    "chengdu = pd.read_excel('.\\\\aqi7city.xlsx',header=None,sheet_name=2, names=['date','aqi','degree','pm25','pm10','so2','co','no2','o3_8h'])\n",
    "wuhan = pd.read_excel('.\\\\aqi7city.xlsx',header=None,sheet_name=3, names=['date','aqi','degree','pm25','pm10','so2','co','no2','o3_8h'])\n",
    "guangzhou = pd.read_excel('.\\\\aqi7city.xlsx',header=None,sheet_name=4, names=['date','aqi','degree','pm25','pm10','so2','co','no2','o3_8h'])\n",
    "xian = pd.read_excel('.\\\\aqi7city.xlsx',header=None,sheet_name=5, names=['date','aqi','degree','pm25','pm10','so2','co','no2','o3_8h'])\n",
    "nanjing = pd.read_excel('.\\\\aqi7city.xlsx',header=None,sheet_name=6, names=['date','aqi','degree','pm25','pm10','so2','co','no2','o3_8h'])\n"
   ]
  },
  {
   "cell_type": "code",
   "execution_count": 57,
   "metadata": {},
   "outputs": [],
   "source": [
    "cities = ['beijing', 'shanghai', 'chengdu', 'wuhan', 'guangzhou', 'xian', 'nanjing']"
   ]
  },
  {
   "cell_type": "code",
   "execution_count": 44,
   "metadata": {},
   "outputs": [
    {
     "data": {
      "text/html": [
       "<div>\n",
       "<style scoped>\n",
       "    .dataframe tbody tr th:only-of-type {\n",
       "        vertical-align: middle;\n",
       "    }\n",
       "\n",
       "    .dataframe tbody tr th {\n",
       "        vertical-align: top;\n",
       "    }\n",
       "\n",
       "    .dataframe thead th {\n",
       "        text-align: right;\n",
       "    }\n",
       "</style>\n",
       "<table border=\"1\" class=\"dataframe\">\n",
       "  <thead>\n",
       "    <tr style=\"text-align: right;\">\n",
       "      <th></th>\n",
       "      <th>date</th>\n",
       "      <th>aqi</th>\n",
       "      <th>degree</th>\n",
       "      <th>pm25</th>\n",
       "      <th>pm10</th>\n",
       "      <th>so2</th>\n",
       "      <th>co</th>\n",
       "      <th>no2</th>\n",
       "      <th>o3_8h</th>\n",
       "    </tr>\n",
       "  </thead>\n",
       "  <tbody>\n",
       "    <tr>\n",
       "      <td>0</td>\n",
       "      <td>2013-12-02</td>\n",
       "      <td>180</td>\n",
       "      <td>中度污染</td>\n",
       "      <td>136</td>\n",
       "      <td>253</td>\n",
       "      <td>87</td>\n",
       "      <td>2.0</td>\n",
       "      <td>120</td>\n",
       "      <td>25</td>\n",
       "    </tr>\n",
       "    <tr>\n",
       "      <td>1</td>\n",
       "      <td>2013-12-03</td>\n",
       "      <td>234</td>\n",
       "      <td>重度污染</td>\n",
       "      <td>184</td>\n",
       "      <td>297</td>\n",
       "      <td>108</td>\n",
       "      <td>2.5</td>\n",
       "      <td>133</td>\n",
       "      <td>17</td>\n",
       "    </tr>\n",
       "    <tr>\n",
       "      <td>2</td>\n",
       "      <td>2013-12-04</td>\n",
       "      <td>386</td>\n",
       "      <td>严重污染</td>\n",
       "      <td>336</td>\n",
       "      <td>455</td>\n",
       "      <td>51</td>\n",
       "      <td>2.5</td>\n",
       "      <td>130</td>\n",
       "      <td>43</td>\n",
       "    </tr>\n",
       "    <tr>\n",
       "      <td>3</td>\n",
       "      <td>2013-12-05</td>\n",
       "      <td>328</td>\n",
       "      <td>严重污染</td>\n",
       "      <td>278</td>\n",
       "      <td>386</td>\n",
       "      <td>52</td>\n",
       "      <td>2.3</td>\n",
       "      <td>110</td>\n",
       "      <td>59</td>\n",
       "    </tr>\n",
       "    <tr>\n",
       "      <td>4</td>\n",
       "      <td>2013-12-06</td>\n",
       "      <td>319</td>\n",
       "      <td>严重污染</td>\n",
       "      <td>269</td>\n",
       "      <td>389</td>\n",
       "      <td>61</td>\n",
       "      <td>2.2</td>\n",
       "      <td>92</td>\n",
       "      <td>36</td>\n",
       "    </tr>\n",
       "  </tbody>\n",
       "</table>\n",
       "</div>"
      ],
      "text/plain": [
       "        date  aqi degree  pm25  pm10  so2   co  no2  o3_8h\n",
       "0 2013-12-02  180   中度污染   136   253   87  2.0  120     25\n",
       "1 2013-12-03  234   重度污染   184   297  108  2.5  133     17\n",
       "2 2013-12-04  386   严重污染   336   455   51  2.5  130     43\n",
       "3 2013-12-05  328   严重污染   278   386   52  2.3  110     59\n",
       "4 2013-12-06  319   严重污染   269   389   61  2.2   92     36"
      ]
     },
     "execution_count": 44,
     "metadata": {},
     "output_type": "execute_result"
    }
   ],
   "source": [
    "nanjing.head()"
   ]
  },
  {
   "cell_type": "code",
   "execution_count": 3,
   "metadata": {},
   "outputs": [
    {
     "data": {
      "text/plain": [
       "2281"
      ]
     },
     "execution_count": 3,
     "metadata": {},
     "output_type": "execute_result"
    }
   ],
   "source": [
    "timeStamps = nanjing.date.unique() #2280\n",
    "len(timeStamps) "
   ]
  },
  {
   "cell_type": "code",
   "execution_count": 4,
   "metadata": {},
   "outputs": [],
   "source": [
    "bj = beijing.drop(['date', 'degree'], axis=1)\n",
    "sh = shanghai.drop(['date', 'degree'], axis=1)\n",
    "cd = chengdu.drop(['date', 'degree'], axis=1)\n",
    "wh = wuhan.drop(['date', 'degree'], axis=1)\n",
    "gz = guangzhou.drop(['date', 'degree'], axis=1)\n",
    "xa = xian.drop(['date', 'degree'], axis=1)\n",
    "nj = nanjing.drop(['date', 'degree'], axis=1)"
   ]
  },
  {
   "cell_type": "code",
   "execution_count": 5,
   "metadata": {},
   "outputs": [],
   "source": [
    "#join different cities\n",
    "df_joint = pd.concat([bj,sh,cd,wh,gz,xa,nj], axis=1)\n",
    "aqi2d = df_joint.values # dataframe to numpy array\n",
    "aqi3d = aqi2d.reshape((aqi2d.shape[0],7,7)) # 2d to 3d"
   ]
  },
  {
   "cell_type": "code",
   "execution_count": 70,
   "metadata": {},
   "outputs": [
    {
     "data": {
      "text/html": [
       "<div>\n",
       "<style scoped>\n",
       "    .dataframe tbody tr th:only-of-type {\n",
       "        vertical-align: middle;\n",
       "    }\n",
       "\n",
       "    .dataframe tbody tr th {\n",
       "        vertical-align: top;\n",
       "    }\n",
       "\n",
       "    .dataframe thead th {\n",
       "        text-align: right;\n",
       "    }\n",
       "</style>\n",
       "<table border=\"1\" class=\"dataframe\">\n",
       "  <thead>\n",
       "    <tr style=\"text-align: right;\">\n",
       "      <th></th>\n",
       "      <th>aqi</th>\n",
       "      <th>pm25</th>\n",
       "      <th>pm10</th>\n",
       "      <th>so2</th>\n",
       "      <th>co</th>\n",
       "      <th>no2</th>\n",
       "      <th>o3_8h</th>\n",
       "      <th>aqi</th>\n",
       "      <th>pm25</th>\n",
       "      <th>pm10</th>\n",
       "      <th>...</th>\n",
       "      <th>co</th>\n",
       "      <th>no2</th>\n",
       "      <th>o3_8h</th>\n",
       "      <th>aqi</th>\n",
       "      <th>pm25</th>\n",
       "      <th>pm10</th>\n",
       "      <th>so2</th>\n",
       "      <th>co</th>\n",
       "      <th>no2</th>\n",
       "      <th>o3_8h</th>\n",
       "    </tr>\n",
       "  </thead>\n",
       "  <tbody>\n",
       "    <tr>\n",
       "      <td>0</td>\n",
       "      <td>142</td>\n",
       "      <td>109</td>\n",
       "      <td>138</td>\n",
       "      <td>61</td>\n",
       "      <td>2.6</td>\n",
       "      <td>88</td>\n",
       "      <td>11</td>\n",
       "      <td>267</td>\n",
       "      <td>217</td>\n",
       "      <td>252</td>\n",
       "      <td>...</td>\n",
       "      <td>3.2</td>\n",
       "      <td>77</td>\n",
       "      <td>17</td>\n",
       "      <td>180</td>\n",
       "      <td>136</td>\n",
       "      <td>253</td>\n",
       "      <td>87</td>\n",
       "      <td>2.0</td>\n",
       "      <td>120</td>\n",
       "      <td>25</td>\n",
       "    </tr>\n",
       "    <tr>\n",
       "      <td>1</td>\n",
       "      <td>86</td>\n",
       "      <td>64</td>\n",
       "      <td>86</td>\n",
       "      <td>38</td>\n",
       "      <td>1.6</td>\n",
       "      <td>54</td>\n",
       "      <td>45</td>\n",
       "      <td>200</td>\n",
       "      <td>150</td>\n",
       "      <td>152</td>\n",
       "      <td>...</td>\n",
       "      <td>2.1</td>\n",
       "      <td>50</td>\n",
       "      <td>31</td>\n",
       "      <td>234</td>\n",
       "      <td>184</td>\n",
       "      <td>297</td>\n",
       "      <td>108</td>\n",
       "      <td>2.5</td>\n",
       "      <td>133</td>\n",
       "      <td>17</td>\n",
       "    </tr>\n",
       "    <tr>\n",
       "      <td>2</td>\n",
       "      <td>109</td>\n",
       "      <td>82</td>\n",
       "      <td>101</td>\n",
       "      <td>42</td>\n",
       "      <td>2.0</td>\n",
       "      <td>62</td>\n",
       "      <td>23</td>\n",
       "      <td>158</td>\n",
       "      <td>121</td>\n",
       "      <td>140</td>\n",
       "      <td>...</td>\n",
       "      <td>2.2</td>\n",
       "      <td>52</td>\n",
       "      <td>25</td>\n",
       "      <td>386</td>\n",
       "      <td>336</td>\n",
       "      <td>455</td>\n",
       "      <td>51</td>\n",
       "      <td>2.5</td>\n",
       "      <td>130</td>\n",
       "      <td>43</td>\n",
       "    </tr>\n",
       "    <tr>\n",
       "      <td>3</td>\n",
       "      <td>56</td>\n",
       "      <td>39</td>\n",
       "      <td>56</td>\n",
       "      <td>30</td>\n",
       "      <td>1.2</td>\n",
       "      <td>38</td>\n",
       "      <td>52</td>\n",
       "      <td>288</td>\n",
       "      <td>238</td>\n",
       "      <td>251</td>\n",
       "      <td>...</td>\n",
       "      <td>1.9</td>\n",
       "      <td>48</td>\n",
       "      <td>34</td>\n",
       "      <td>328</td>\n",
       "      <td>278</td>\n",
       "      <td>386</td>\n",
       "      <td>52</td>\n",
       "      <td>2.3</td>\n",
       "      <td>110</td>\n",
       "      <td>59</td>\n",
       "    </tr>\n",
       "    <tr>\n",
       "      <td>4</td>\n",
       "      <td>169</td>\n",
       "      <td>128</td>\n",
       "      <td>162</td>\n",
       "      <td>48</td>\n",
       "      <td>2.5</td>\n",
       "      <td>78</td>\n",
       "      <td>15</td>\n",
       "      <td>468</td>\n",
       "      <td>452</td>\n",
       "      <td>472</td>\n",
       "      <td>...</td>\n",
       "      <td>2.3</td>\n",
       "      <td>67</td>\n",
       "      <td>26</td>\n",
       "      <td>319</td>\n",
       "      <td>269</td>\n",
       "      <td>389</td>\n",
       "      <td>61</td>\n",
       "      <td>2.2</td>\n",
       "      <td>92</td>\n",
       "      <td>36</td>\n",
       "    </tr>\n",
       "    <tr>\n",
       "      <td>...</td>\n",
       "      <td>...</td>\n",
       "      <td>...</td>\n",
       "      <td>...</td>\n",
       "      <td>...</td>\n",
       "      <td>...</td>\n",
       "      <td>...</td>\n",
       "      <td>...</td>\n",
       "      <td>...</td>\n",
       "      <td>...</td>\n",
       "      <td>...</td>\n",
       "      <td>...</td>\n",
       "      <td>...</td>\n",
       "      <td>...</td>\n",
       "      <td>...</td>\n",
       "      <td>...</td>\n",
       "      <td>...</td>\n",
       "      <td>...</td>\n",
       "      <td>...</td>\n",
       "      <td>...</td>\n",
       "      <td>...</td>\n",
       "      <td>...</td>\n",
       "    </tr>\n",
       "    <tr>\n",
       "      <td>2276</td>\n",
       "      <td>70</td>\n",
       "      <td>51</td>\n",
       "      <td>75</td>\n",
       "      <td>10</td>\n",
       "      <td>0.9</td>\n",
       "      <td>26</td>\n",
       "      <td>68</td>\n",
       "      <td>65</td>\n",
       "      <td>47</td>\n",
       "      <td>52</td>\n",
       "      <td>...</td>\n",
       "      <td>1.4</td>\n",
       "      <td>49</td>\n",
       "      <td>128</td>\n",
       "      <td>95</td>\n",
       "      <td>71</td>\n",
       "      <td>91</td>\n",
       "      <td>9</td>\n",
       "      <td>1.1</td>\n",
       "      <td>40</td>\n",
       "      <td>45</td>\n",
       "    </tr>\n",
       "    <tr>\n",
       "      <td>2277</td>\n",
       "      <td>53</td>\n",
       "      <td>37</td>\n",
       "      <td>47</td>\n",
       "      <td>5</td>\n",
       "      <td>0.6</td>\n",
       "      <td>22</td>\n",
       "      <td>79</td>\n",
       "      <td>44</td>\n",
       "      <td>28</td>\n",
       "      <td>36</td>\n",
       "      <td>...</td>\n",
       "      <td>1.2</td>\n",
       "      <td>30</td>\n",
       "      <td>90</td>\n",
       "      <td>52</td>\n",
       "      <td>32</td>\n",
       "      <td>53</td>\n",
       "      <td>4</td>\n",
       "      <td>0.6</td>\n",
       "      <td>19</td>\n",
       "      <td>96</td>\n",
       "    </tr>\n",
       "    <tr>\n",
       "      <td>2278</td>\n",
       "      <td>40</td>\n",
       "      <td>28</td>\n",
       "      <td>32</td>\n",
       "      <td>4</td>\n",
       "      <td>0.5</td>\n",
       "      <td>24</td>\n",
       "      <td>56</td>\n",
       "      <td>47</td>\n",
       "      <td>29</td>\n",
       "      <td>44</td>\n",
       "      <td>...</td>\n",
       "      <td>0.9</td>\n",
       "      <td>21</td>\n",
       "      <td>34</td>\n",
       "      <td>54</td>\n",
       "      <td>30</td>\n",
       "      <td>57</td>\n",
       "      <td>6</td>\n",
       "      <td>0.6</td>\n",
       "      <td>28</td>\n",
       "      <td>91</td>\n",
       "    </tr>\n",
       "    <tr>\n",
       "      <td>2279</td>\n",
       "      <td>88</td>\n",
       "      <td>65</td>\n",
       "      <td>63</td>\n",
       "      <td>3</td>\n",
       "      <td>0.7</td>\n",
       "      <td>29</td>\n",
       "      <td>74</td>\n",
       "      <td>52</td>\n",
       "      <td>36</td>\n",
       "      <td>42</td>\n",
       "      <td>...</td>\n",
       "      <td>0.9</td>\n",
       "      <td>26</td>\n",
       "      <td>35</td>\n",
       "      <td>34</td>\n",
       "      <td>21</td>\n",
       "      <td>28</td>\n",
       "      <td>4</td>\n",
       "      <td>0.6</td>\n",
       "      <td>27</td>\n",
       "      <td>63</td>\n",
       "    </tr>\n",
       "    <tr>\n",
       "      <td>2280</td>\n",
       "      <td>114</td>\n",
       "      <td>86</td>\n",
       "      <td>57</td>\n",
       "      <td>2</td>\n",
       "      <td>1.2</td>\n",
       "      <td>32</td>\n",
       "      <td>26</td>\n",
       "      <td>47</td>\n",
       "      <td>26</td>\n",
       "      <td>16</td>\n",
       "      <td>...</td>\n",
       "      <td>0.8</td>\n",
       "      <td>28</td>\n",
       "      <td>74</td>\n",
       "      <td>38</td>\n",
       "      <td>21</td>\n",
       "      <td>24</td>\n",
       "      <td>4</td>\n",
       "      <td>0.5</td>\n",
       "      <td>30</td>\n",
       "      <td>53</td>\n",
       "    </tr>\n",
       "  </tbody>\n",
       "</table>\n",
       "<p>2281 rows × 49 columns</p>\n",
       "</div>"
      ],
      "text/plain": [
       "      aqi  pm25  pm10  so2   co  no2  o3_8h  aqi  pm25  pm10  ...   co  no2  \\\n",
       "0     142   109   138   61  2.6   88     11  267   217   252  ...  3.2   77   \n",
       "1      86    64    86   38  1.6   54     45  200   150   152  ...  2.1   50   \n",
       "2     109    82   101   42  2.0   62     23  158   121   140  ...  2.2   52   \n",
       "3      56    39    56   30  1.2   38     52  288   238   251  ...  1.9   48   \n",
       "4     169   128   162   48  2.5   78     15  468   452   472  ...  2.3   67   \n",
       "...   ...   ...   ...  ...  ...  ...    ...  ...   ...   ...  ...  ...  ...   \n",
       "2276   70    51    75   10  0.9   26     68   65    47    52  ...  1.4   49   \n",
       "2277   53    37    47    5  0.6   22     79   44    28    36  ...  1.2   30   \n",
       "2278   40    28    32    4  0.5   24     56   47    29    44  ...  0.9   21   \n",
       "2279   88    65    63    3  0.7   29     74   52    36    42  ...  0.9   26   \n",
       "2280  114    86    57    2  1.2   32     26   47    26    16  ...  0.8   28   \n",
       "\n",
       "      o3_8h  aqi  pm25  pm10  so2   co  no2  o3_8h  \n",
       "0        17  180   136   253   87  2.0  120     25  \n",
       "1        31  234   184   297  108  2.5  133     17  \n",
       "2        25  386   336   455   51  2.5  130     43  \n",
       "3        34  328   278   386   52  2.3  110     59  \n",
       "4        26  319   269   389   61  2.2   92     36  \n",
       "...     ...  ...   ...   ...  ...  ...  ...    ...  \n",
       "2276    128   95    71    91    9  1.1   40     45  \n",
       "2277     90   52    32    53    4  0.6   19     96  \n",
       "2278     34   54    30    57    6  0.6   28     91  \n",
       "2279     35   34    21    28    4  0.6   27     63  \n",
       "2280     74   38    21    24    4  0.5   30     53  \n",
       "\n",
       "[2281 rows x 49 columns]"
      ]
     },
     "execution_count": 70,
     "metadata": {},
     "output_type": "execute_result"
    }
   ],
   "source": [
    "df_joint"
   ]
  },
  {
   "cell_type": "markdown",
   "metadata": {},
   "source": [
    "### normalization"
   ]
  },
  {
   "cell_type": "code",
   "execution_count": 88,
   "metadata": {},
   "outputs": [
    {
     "data": {
      "text/plain": [
       "(2281, 7, 7)"
      ]
     },
     "execution_count": 88,
     "metadata": {},
     "output_type": "execute_result"
    }
   ],
   "source": [
    "aqi3d.shape"
   ]
  },
  {
   "cell_type": "code",
   "execution_count": 89,
   "metadata": {},
   "outputs": [
    {
     "data": {
      "text/plain": [
       "array([[142., 267., 265., ...,  77., 251., 180.],\n",
       "       [ 86., 200., 269., ..., 149., 127., 234.],\n",
       "       [109., 158., 285., ..., 134.,  90., 386.],\n",
       "       ...,\n",
       "       [ 40.,  47., 138., ...,  54.,  33.,  54.],\n",
       "       [ 88.,  52.,  38., ...,  44.,  48.,  34.],\n",
       "       [114.,  47.,  69., ...,  62.,  59.,  38.]])"
      ]
     },
     "execution_count": 89,
     "metadata": {},
     "output_type": "execute_result"
    }
   ],
   "source": [
    "aqi3d[:,:,0]"
   ]
  },
  {
   "cell_type": "code",
   "execution_count": 6,
   "metadata": {},
   "outputs": [],
   "source": [
    "def array_normalize(array):\n",
    "    maxVal = np.amax(array)\n",
    "    minVal = np.amin(array)\n",
    "#     print(maxVal)\n",
    "#     print(minVal)\n",
    "    return (array - minVal) / (maxVal - minVal)"
   ]
  },
  {
   "cell_type": "code",
   "execution_count": 7,
   "metadata": {},
   "outputs": [],
   "source": [
    "normAqi3d = np.zeros_like(aqi3d)\n",
    "for i in range(aqi3d.shape[0]):\n",
    "    normAqi3d[i,:,:] = array_normalize(aqi3d[i,:,:])"
   ]
  },
  {
   "cell_type": "code",
   "execution_count": 8,
   "metadata": {},
   "outputs": [
    {
     "data": {
      "text/plain": [
       "(2281, 7, 7)"
      ]
     },
     "execution_count": 8,
     "metadata": {},
     "output_type": "execute_result"
    }
   ],
   "source": [
    "normAqi3d.shape"
   ]
  },
  {
   "cell_type": "markdown",
   "metadata": {},
   "source": [
    "### extract dataset seq2seq"
   ]
  },
  {
   "cell_type": "code",
   "execution_count": 12,
   "metadata": {},
   "outputs": [],
   "source": [
    "from numpy import zeros, newaxis\n",
    "def extract_dataset_seq2seq(frames,n_steps,lag):\n",
    "    '''\n",
    "    this fun get inputs from the output of extract_frame_new()\n",
    "    frames: the proprocessed data in ndarray\n",
    "    n_steps: length of RNN window\n",
    "    lag: the time lag from x to y\n",
    "    '''\n",
    "    X, Y = list(), list()\n",
    "    for i in range(len(frames)):\n",
    "        end_ix = i + n_steps\n",
    "        \n",
    "        if end_ix > len(frames) - lag-1:\n",
    "            break\n",
    "        X_i, Y_i = frames[i:end_ix], frames[i+lag:end_ix+lag]\n",
    "        X.append(X_i)\n",
    "        Y.append(Y_i)\n",
    "    XX = np.asarray(X)\n",
    "    YY = np.asarray(Y)\n",
    "    \n",
    "    return XX[:,:,:,:,newaxis], YY[:,:,:,:,newaxis]"
   ]
  },
  {
   "cell_type": "code",
   "execution_count": 13,
   "metadata": {},
   "outputs": [],
   "source": [
    "X, y = extract_dataset_seq2seq(normAqi3d,5,5)\n",
    "with open('X7city.pkl', 'wb') as fp1:\n",
    "    pickle.dump(X, fp1)\n",
    "\n",
    "with open('y7city.pkl', 'wb') as fp2:\n",
    "    pickle.dump(y, fp2)"
   ]
  },
  {
   "cell_type": "markdown",
   "metadata": {},
   "source": [
    "## training"
   ]
  },
  {
   "cell_type": "code",
   "execution_count": 1,
   "metadata": {},
   "outputs": [
    {
     "name": "stderr",
     "output_type": "stream",
     "text": [
      "Using TensorFlow backend.\n"
     ]
    }
   ],
   "source": [
    "from keras.models import Sequential\n",
    "from keras.layers.convolutional import Conv3D\n",
    "from keras.layers.convolutional_recurrent import ConvLSTM2D\n",
    "from keras.layers.normalization import BatchNormalization"
   ]
  },
  {
   "cell_type": "markdown",
   "metadata": {},
   "source": [
    "### seq2seq"
   ]
  },
  {
   "cell_type": "code",
   "execution_count": 2,
   "metadata": {},
   "outputs": [],
   "source": [
    "seq = Sequential()\n",
    "seq.add(ConvLSTM2D(filters=1, kernel_size=(2, 2),\n",
    "                   input_shape=(None, 7, 7, 1),\n",
    "                   padding='same', return_sequences=True))\n",
    "seq.add(BatchNormalization())\n",
    "\n",
    "seq.add(ConvLSTM2D(filters=1, kernel_size=(2, 2),\n",
    "                   padding='same', return_sequences=True))\n",
    "seq.add(BatchNormalization())\n",
    "\n",
    "seq.add(Conv3D(filters=1, kernel_size=(3, 3, 3),\n",
    "               activation='sigmoid',\n",
    "               padding='same', data_format='channels_last'))\n",
    "seq.compile(loss='mean_absolute_error', optimizer='sgd')\n",
    "# seq.compile(loss='mean_squared_error', optimizer='sgd', metrics=['mae', 'acc'])"
   ]
  },
  {
   "cell_type": "code",
   "execution_count": 3,
   "metadata": {},
   "outputs": [
    {
     "name": "stdout",
     "output_type": "stream",
     "text": [
      "_________________________________________________________________\n",
      "Layer (type)                 Output Shape              Param #   \n",
      "=================================================================\n",
      "conv_lst_m2d_1 (ConvLSTM2D)  (None, None, 7, 7, 1)     36        \n",
      "_________________________________________________________________\n",
      "batch_normalization_1 (Batch (None, None, 7, 7, 1)     4         \n",
      "_________________________________________________________________\n",
      "conv_lst_m2d_2 (ConvLSTM2D)  (None, None, 7, 7, 1)     36        \n",
      "_________________________________________________________________\n",
      "batch_normalization_2 (Batch (None, None, 7, 7, 1)     4         \n",
      "_________________________________________________________________\n",
      "conv3d_1 (Conv3D)            (None, None, 7, 7, 1)     28        \n",
      "=================================================================\n",
      "Total params: 108\n",
      "Trainable params: 104\n",
      "Non-trainable params: 4\n",
      "_________________________________________________________________\n"
     ]
    }
   ],
   "source": [
    "seq.summary()"
   ]
  },
  {
   "cell_type": "code",
   "execution_count": 6,
   "metadata": {},
   "outputs": [],
   "source": [
    "with open('X7city.pkl', 'rb') as file:\n",
    "    X = pickle.load(file)\n",
    "with open('y7city.pkl', 'rb') as file1:\n",
    "    Y = pickle.load(file1)"
   ]
  },
  {
   "cell_type": "code",
   "execution_count": 7,
   "metadata": {},
   "outputs": [
    {
     "data": {
      "text/plain": [
       "(2271, 5, 7, 7, 1)"
      ]
     },
     "execution_count": 7,
     "metadata": {},
     "output_type": "execute_result"
    }
   ],
   "source": [
    "X.shape"
   ]
  },
  {
   "cell_type": "code",
   "execution_count": 8,
   "metadata": {},
   "outputs": [
    {
     "data": {
      "text/plain": [
       "(2271, 5, 7, 7, 1)"
      ]
     },
     "execution_count": 8,
     "metadata": {},
     "output_type": "execute_result"
    }
   ],
   "source": [
    "Y.shape"
   ]
  },
  {
   "cell_type": "code",
   "execution_count": 9,
   "metadata": {},
   "outputs": [],
   "source": [
    "X_train = X[:2000]\n",
    "Y_train = Y[:2000]\n",
    "\n",
    "X_test = X[2000:2275]\n",
    "Y_test = Y[2000:2275]"
   ]
  },
  {
   "cell_type": "code",
   "execution_count": 10,
   "metadata": {},
   "outputs": [
    {
     "name": "stdout",
     "output_type": "stream",
     "text": [
      "Train on 1900 samples, validate on 100 samples\n",
      "Epoch 1/20\n",
      "1900/1900 [==============================] - 14s 8ms/step - loss: 0.2650 - val_loss: 0.2270\n",
      "Epoch 2/20\n",
      "1900/1900 [==============================] - 10s 5ms/step - loss: 0.1882 - val_loss: 0.1635\n",
      "Epoch 3/20\n",
      "1900/1900 [==============================] - 10s 5ms/step - loss: 0.1528 - val_loss: 0.1440\n",
      "Epoch 4/20\n",
      "1900/1900 [==============================] - 10s 5ms/step - loss: 0.1448 - val_loss: 0.1374\n",
      "Epoch 5/20\n",
      "1900/1900 [==============================] - 10s 5ms/step - loss: 0.1408 - val_loss: 0.1330\n",
      "Epoch 6/20\n",
      "1900/1900 [==============================] - 10s 5ms/step - loss: 0.1377 - val_loss: 0.1297\n",
      "Epoch 7/20\n",
      "1900/1900 [==============================] - 10s 5ms/step - loss: 0.1352 - val_loss: 0.1272\n",
      "Epoch 8/20\n",
      "1900/1900 [==============================] - 10s 5ms/step - loss: 0.1331 - val_loss: 0.1253\n",
      "Epoch 9/20\n",
      "1900/1900 [==============================] - 10s 5ms/step - loss: 0.1317 - val_loss: 0.1239\n",
      "Epoch 10/20\n",
      "1900/1900 [==============================] - 10s 6ms/step - loss: 0.1304 - val_loss: 0.1228\n",
      "Epoch 11/20\n",
      "1900/1900 [==============================] - 10s 5ms/step - loss: 0.1293 - val_loss: 0.1219\n",
      "Epoch 12/20\n",
      "1900/1900 [==============================] - 10s 6ms/step - loss: 0.1284 - val_loss: 0.1212\n",
      "Epoch 13/20\n",
      "1900/1900 [==============================] - 11s 6ms/step - loss: 0.1275 - val_loss: 0.1205\n",
      "Epoch 14/20\n",
      "1900/1900 [==============================] - 11s 6ms/step - loss: 0.1269 - val_loss: 0.1200\n",
      "Epoch 15/20\n",
      "1900/1900 [==============================] - 11s 6ms/step - loss: 0.1265 - val_loss: 0.1194\n",
      "Epoch 16/20\n",
      "1900/1900 [==============================] - 11s 6ms/step - loss: 0.1258 - val_loss: 0.1190\n",
      "Epoch 17/20\n",
      "1900/1900 [==============================] - 10s 6ms/step - loss: 0.1254 - val_loss: 0.1187\n",
      "Epoch 18/20\n",
      "1900/1900 [==============================] - 11s 6ms/step - loss: 0.1252 - val_loss: 0.1183\n",
      "Epoch 19/20\n",
      "1900/1900 [==============================] - 10s 5ms/step - loss: 0.1249 - val_loss: 0.1179\n",
      "Epoch 20/20\n",
      "1900/1900 [==============================] - 11s 6ms/step - loss: 0.1246 - val_loss: 0.1176\n"
     ]
    },
    {
     "data": {
      "text/plain": [
       "<keras.callbacks.History at 0x25471445b70>"
      ]
     },
     "execution_count": 10,
     "metadata": {},
     "output_type": "execute_result"
    }
   ],
   "source": [
    "seq.fit(X_train, Y_train, batch_size=10, epochs=20, validation_split=0.05)"
   ]
  },
  {
   "cell_type": "markdown",
   "metadata": {},
   "source": [
    "# prediction"
   ]
  },
  {
   "cell_type": "code",
   "execution_count": 11,
   "metadata": {},
   "outputs": [],
   "source": [
    "Y_hat = seq.predict(X_test, verbose=0)"
   ]
  },
  {
   "cell_type": "code",
   "execution_count": 14,
   "metadata": {},
   "outputs": [
    {
     "data": {
      "text/plain": [
       "(271, 5, 7, 7, 1)"
      ]
     },
     "execution_count": 14,
     "metadata": {},
     "output_type": "execute_result"
    }
   ],
   "source": [
    "Y_hat.shape"
   ]
  },
  {
   "cell_type": "markdown",
   "metadata": {},
   "source": [
    "## visulization"
   ]
  },
  {
   "cell_type": "code",
   "execution_count": null,
   "metadata": {},
   "outputs": [],
   "source": [
    "cities = ['beijing', 'shanghai', 'chengdu', 'wuhan', 'guangzhou', 'xian', 'nanjing']"
   ]
  },
  {
   "cell_type": "code",
   "execution_count": 21,
   "metadata": {},
   "outputs": [
    {
     "data": {
      "image/png": "[encoded data removed]",
      "text/plain": [
       "<Figure size 756x1152 with 8 Axes>"
      ]
     },
     "metadata": {
      "needs_background": "light"
     },
     "output_type": "display_data"
    }
   ],
   "source": [
    "import random\n",
    "length = Y_hat.shape[0]\n",
    "import matplotlib.pyplot as plt\n",
    "import numpy as np\n",
    "random_ind = random.sample(range(0, length-1), 6)\n",
    "\n",
    "\n",
    "y_pre_0 = Y_hat[random_ind[0],4,:,:,0]\n",
    "y_pre_1 = Y_hat[random_ind[1],4,:,:,0]\n",
    "y_pre_2 = Y_hat[random_ind[2],4,:,:,0]\n",
    "y_pre_3 = Y_hat[random_ind[3],4,:,:,0]\n",
    "\n",
    "y_truth_0 = Y_test[random_ind[0],4,:,:,0]\n",
    "y_truth_1 = Y_test[random_ind[1],4,:,:,0]\n",
    "y_truth_2 = Y_test[random_ind[2],4,:,:,0]\n",
    "y_truth_3 = Y_test[random_ind[3],4,:,:,0]\n",
    "\n",
    "stations = ['Beijing', 'Shanghai', 'Chengdu', 'Wuhan', 'Guangzhou', 'Xi\\'an','Nanjing']\n",
    "#     fea = ['co', 'no2', 'o3', 'pm10', 'pm2.5', 'so2', 'pressure', 'temperature', 'humidity']\n",
    "fea = ['AQI','PM2.5','PM10',r'SO$_2$','CO', r'NO$_2$', r'O$_3$']\n",
    "\n",
    "fig, (ax1, ax2)= plt.subplots(1, 2, sharey=True, sharex=True, figsize=(10.5, 16))\n",
    "\n",
    "# plt.yticks(np.arange(7), stations, fontsize=12)\n",
    "# ax1.set_yticklabels(stations,fontsize=13,rotation=30)\n",
    "# ax1.set_xticklabels(fea)\n",
    "#         plt.xticks = [0, 1, 2,3,4,5,6,7,8]\n",
    "# plt.setp(ax1, xticks = [0, 1, 2,3,4,5,6,7,8])\n",
    "# plt.setp(ax2, yticks = [0, 1, 2,3,4,5,6])\n",
    "\n",
    "xticks = [0, 1, 2,3,4,5,6]\n",
    "yticks = [0, 1, 2,3,4,5,6]\n",
    "\n",
    "# plt.setp(ax1.get_xticklabels(), rotation=40, ha=\"right\", rotation_mode=\"anchor\")\n",
    "# plt.setp(ax2.get_xticklabels(), rotation=30)\n",
    "\n",
    "\n",
    "\n",
    "plt.subplot(421,sharex=ax1)\n",
    "plt.imshow(y_pre_0, cmap='Blues')\n",
    "plt.text(2, -0.8, 'Predition', fontsize=13)\n",
    "plt.setp(plt.gca(), yticks=yticks, yticklabels=stations)\n",
    "\n",
    "plt.subplot(422, sharex=ax2)\n",
    "plt.imshow(y_truth_0, cmap='Blues')\n",
    "plt.text(2, -0.8, 'Ground truth', fontsize=13)\n",
    "\n",
    "plt.subplot(423,sharex=ax1)\n",
    "plt.imshow(y_pre_1,cmap='Blues')\n",
    "plt.setp(plt.gca(), yticks=yticks, yticklabels=stations)\n",
    "\n",
    "plt.subplot(424, sharex=ax2)\n",
    "plt.imshow(y_truth_1,cmap='Blues')\n",
    "\n",
    "plt.subplot(425, sharex=ax1)\n",
    "plt.imshow(y_pre_2,cmap='Blues')\n",
    "plt.setp(plt.gca(), yticks=yticks, yticklabels=stations)\n",
    "\n",
    "plt.subplot(426, sharex=ax2)\n",
    "plt.imshow(y_truth_2,cmap='Blues')\n",
    "\n",
    "plt.subplot(427, sharex=ax1)\n",
    "plt.imshow(y_pre_3,cmap='Blues')\n",
    "plt.setp(plt.gca(), yticks=yticks, yticklabels=stations)\n",
    "# plt.setp(plt.gca(), xticks=xticks, xticklabels=fea,\n",
    "#          yticks=yticks, yticklabels=stations)\n",
    "\n",
    "plt.subplot(428, sharex=ax2)\n",
    "plt.imshow(y_truth_3,cmap='Blues')\n",
    "plt.setp(plt.gca(), xticks=xticks, xticklabels=fea)\n",
    "for ax in fig.axes:\n",
    "    plt.sca(ax)\n",
    "    plt.xticks(rotation=35)\n",
    "\n",
    "\n",
    "# cbar = fig.colorbar(im)\n",
    "# cbar.solids.set_edgecolor(\"face\")\n",
    "plt.savefig('predict-map-7city.png', dpi=100, bbox_inches ='tight')\n",
    "plt.show()"
   ]
  },
  {
   "cell_type": "code",
   "execution_count": null,
   "metadata": {},
   "outputs": [],
   "source": []
  }
 ],
 "metadata": {
  "kernelspec": {
   "display_name": "Python(keras-tf)",
   "language": "python",
   "name": "tensorflow"
  },
  "language_info": {
   "codemirror_mode": {
    "name": "ipython",
    "version": 3
   },
   "file_extension": ".py",
   "mimetype": "text/x-python",
   "name": "python",
   "nbconvert_exporter": "python",
   "pygments_lexer": "ipython3",
   "version": "3.6.8"
  }
 },
 "nbformat": 4,
 "nbformat_minor": 4
}
